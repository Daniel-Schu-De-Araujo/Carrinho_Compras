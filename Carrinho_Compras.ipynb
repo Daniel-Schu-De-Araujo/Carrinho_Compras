{
 "cells": [
  {
   "cell_type": "code",
   "execution_count": 8,
   "metadata": {},
   "outputs": [
    {
     "name": "stdout",
     "output_type": "stream",
     "text": [
      "[{'nome': 'geladeira_aleatoria', 'quantidade': 1, 'preco_unitario': 4000.0}, {'nome': 'tuia holandesa', 'quantidade': 3, 'preco_unitario': 20.0}, {'nome': 'livro aleatório', 'quantidade': 7, 'preco_unitario': 50.0}]\n"
     ]
    }
   ],
   "source": [
    "#Criando e mostrando meu carrinho\n",
    "\n",
    "carrinho = [\n",
    "    {'nome': 'geladeira_aleatoria', 'quantidade': 1, 'preco_unitario': 4000.00},\n",
    "    {'nome': 'tuia holandesa', 'quantidade': 3, 'preco_unitario': 20.00},\n",
    "    {'nome': 'livro aleatório', 'quantidade': 7, 'preco_unitario': 50.00}\n",
    "    ]\n",
    "print(carrinho)"
   ]
  },
  {
   "cell_type": "code",
   "execution_count": 2,
   "metadata": {},
   "outputs": [
    {
     "name": "stdout",
     "output_type": "stream",
     "text": [
      "carrinho corrigido: [{'nome': 'tuia holandesa', 'quantidade': 3, 'preco_unitario': 20.0}, {'nome': 'livro aleatório', 'quantidade': 7, 'preco_unitario': 50.0}]\n",
      "item adicionado por engano: {'nome': 'geladeira_aleatoria', 'quantidade': 1, 'preco_unitario': 4000.0}\n"
     ]
    }
   ],
   "source": [
    "#Removendo um item errado e mostrando o novo carrinho e o item adicionado por engano\n",
    "\n",
    "item_removido = carrinho.pop(0) #Guardando o item errado em uma variável\n",
    "print(f'carrinho corrigido: {carrinho}') #Checando o carrinho\n",
    "print(f'item adicionado por engano: {item_removido}') #Checando o item removido"
   ]
  },
  {
   "cell_type": "code",
   "execution_count": 3,
   "metadata": {},
   "outputs": [
    {
     "name": "stdout",
     "output_type": "stream",
     "text": [
      "carrinho correto: [{'nome': 'tuia holandesa', 'quantidade': 3, 'preco_unitario': 20.0}, {'nome': 'livro aleatório', 'quantidade': 7, 'preco_unitario': 50.0}, {'nome': 'geladeira de duas portas e máquina de fazer gelo', 'quantidade': 1, 'preco_unitario': 8000.0}]\n"
     ]
    }
   ],
   "source": [
    "#Adicionando o item correto\n",
    "#Guardando o item errado na variável abaixo\n",
    "item_correto = {'nome': 'geladeira de duas portas e máquina de fazer gelo', 'quantidade': 1, 'preco_unitario': 8000.00}\n",
    "carrinho.append(item_correto) #Adicionando o item correto\n",
    "print(f'carrinho correto: {carrinho}') #Checando o carrinho"
   ]
  },
  {
   "cell_type": "code",
   "execution_count": 4,
   "metadata": {},
   "outputs": [],
   "source": [
    "#Reunindo as informações do primeiro item\n",
    "\n",
    "quantidade_1 = carrinho[0]['quantidade'] #Criando as variáveis que vão guardar as informações necessárias\n",
    "preco_1 = carrinho[0]['preco_unitario']\n",
    "total_item_1 = round(quantidade_1*preco_1, 2) #Calculando o total"
   ]
  },
  {
   "cell_type": "code",
   "execution_count": 5,
   "metadata": {},
   "outputs": [],
   "source": [
    "#Reunindo as informações do segundo item (e repetindo o processo)\n",
    "\n",
    "quantidade_2 = carrinho[1]['quantidade']\n",
    "preco_2 = carrinho[1]['preco_unitario']\n",
    "total_item_2 = round(quantidade_2*preco_2, 2)"
   ]
  },
  {
   "cell_type": "code",
   "execution_count": 6,
   "metadata": {},
   "outputs": [],
   "source": [
    "#Reunindo as informações do terceiro item (e repetindo o processo 2)\n",
    "\n",
    "quantidade_3 = carrinho[2]['quantidade']\n",
    "preco_3 = carrinho[2]['preco_unitario']\n",
    "total_item_3 = round(quantidade_3*preco_3, 2)"
   ]
  },
  {
   "cell_type": "code",
   "execution_count": 7,
   "metadata": {},
   "outputs": [
    {
     "name": "stdout",
     "output_type": "stream",
     "text": [
      "total: R$8410.00\n"
     ]
    }
   ],
   "source": [
    "#Calculando e mostrando o valor total do meu carrinho\n",
    "\n",
    "total = round(total_item_1+total_item_2+total_item_3)\n",
    "print(f'total: R${total:.2f}')"
   ]
  }
 ],
 "metadata": {
  "kernelspec": {
   "display_name": "base",
   "language": "python",
   "name": "python3"
  },
  "language_info": {
   "codemirror_mode": {
    "name": "ipython",
    "version": 3
   },
   "file_extension": ".py",
   "mimetype": "text/x-python",
   "name": "python",
   "nbconvert_exporter": "python",
   "pygments_lexer": "ipython3",
   "version": "3.12.7"
  }
 },
 "nbformat": 4,
 "nbformat_minor": 2
}
